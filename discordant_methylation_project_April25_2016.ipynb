{
 "cells": [
  {
   "cell_type": "code",
   "execution_count": 1,
   "metadata": {
    "collapsed": true
   },
   "outputs": [],
   "source": [
    "%matplotlib inline"
   ]
  },
  {
   "cell_type": "code",
   "execution_count": 2,
   "metadata": {
    "collapsed": true
   },
   "outputs": [],
   "source": [
    "import os\n",
    "os.chdir('/Users/evanbiederstedt/downloads/cellsamples')   \n",
    "# files at http://www.broadinstitute.org/~kendell/seq/scRRBS/anno/"
   ]
  },
  {
   "cell_type": "code",
   "execution_count": 3,
   "metadata": {
    "collapsed": false
   },
   "outputs": [],
   "source": [
    "import pandas as pd\n",
    "import numpy as np\n",
    "import seaborn as sns\n",
    "import matplotlib.pyplot as plt\n",
    "import matplotlib\n",
    "pd.set_option('display.max_columns', 50) # print all rows"
   ]
  },
  {
   "cell_type": "code",
   "execution_count": 4,
   "metadata": {
    "collapsed": true
   },
   "outputs": [],
   "source": [
    "df1 = pd.read_table('RRBS_NormalBCD19_CD27_cell1_22_CGAGGCTG.ACCGCG.reads.anno') # example mammary cell, GD27"
   ]
  },
  {
   "cell_type": "code",
   "execution_count": 5,
   "metadata": {
    "collapsed": false
   },
   "outputs": [
    {
     "data": {
      "text/html": [
       "<div>\n",
       "<table border=\"1\" class=\"dataframe\">\n",
       "  <thead>\n",
       "    <tr style=\"text-align: right;\">\n",
       "      <th></th>\n",
       "      <th>chr</th>\n",
       "      <th>start</th>\n",
       "      <th>cpgMeth</th>\n",
       "      <th>cpgUnmeth</th>\n",
       "      <th>readMeth</th>\n",
       "      <th>readUnmeth</th>\n",
       "      <th>readMixed</th>\n",
       "      <th>avCpgCount</th>\n",
       "      <th>epiProb</th>\n",
       "      <th>discProb</th>\n",
       "      <th>expDisc</th>\n",
       "      <th>epiReadTypeCount</th>\n",
       "      <th>tss</th>\n",
       "      <th>tssDistance</th>\n",
       "      <th>genesDistance</th>\n",
       "      <th>exonsDistance</th>\n",
       "      <th>intronsDistance</th>\n",
       "      <th>promoterDistance</th>\n",
       "      <th>cgi</th>\n",
       "      <th>cgiDistance</th>\n",
       "      <th>geneDensity</th>\n",
       "      <th>ctcfDistance</th>\n",
       "      <th>ctcfUpDistance</th>\n",
       "      <th>ctcfDownDistance</th>\n",
       "      <th>ctcfDensity</th>\n",
       "      <th>geneDistalRegulatoryModulesDistance</th>\n",
       "      <th>3PrimeUTRDistance</th>\n",
       "      <th>5PrimeUTRDistance</th>\n",
       "      <th>firstExonDistance</th>\n",
       "      <th>hypoInHues64Distance</th>\n",
       "    </tr>\n",
       "  </thead>\n",
       "  <tbody>\n",
       "    <tr>\n",
       "      <th>0</th>\n",
       "      <td>chr1</td>\n",
       "      <td>523390</td>\n",
       "      <td>16</td>\n",
       "      <td>14</td>\n",
       "      <td>0</td>\n",
       "      <td>0</td>\n",
       "      <td>10</td>\n",
       "      <td>3.0</td>\n",
       "      <td>0.48</td>\n",
       "      <td>0.053860</td>\n",
       "      <td>7.466667</td>\n",
       "      <td>2</td>\n",
       "      <td>OR4F16</td>\n",
       "      <td>98644</td>\n",
       "      <td>97705</td>\n",
       "      <td>97705</td>\n",
       "      <td>97705</td>\n",
       "      <td>97644.0</td>\n",
       "      <td>2</td>\n",
       "      <td>40969</td>\n",
       "      <td>55</td>\n",
       "      <td>1741</td>\n",
       "      <td>1741.0</td>\n",
       "      <td>22611.0</td>\n",
       "      <td>44</td>\n",
       "      <td>299510</td>\n",
       "      <td>356143</td>\n",
       "      <td>337730</td>\n",
       "      <td>97705</td>\n",
       "      <td>9884412.0</td>\n",
       "    </tr>\n",
       "    <tr>\n",
       "      <th>1</th>\n",
       "      <td>chr1</td>\n",
       "      <td>852026</td>\n",
       "      <td>22</td>\n",
       "      <td>33</td>\n",
       "      <td>0</td>\n",
       "      <td>0</td>\n",
       "      <td>11</td>\n",
       "      <td>5.0</td>\n",
       "      <td>0.00</td>\n",
       "      <td>0.363031</td>\n",
       "      <td>10.032000</td>\n",
       "      <td>1</td>\n",
       "      <td>LOC100130417</td>\n",
       "      <td>2791</td>\n",
       "      <td>926</td>\n",
       "      <td>926</td>\n",
       "      <td>926</td>\n",
       "      <td>1791.0</td>\n",
       "      <td>8</td>\n",
       "      <td>5762</td>\n",
       "      <td>67</td>\n",
       "      <td>3472</td>\n",
       "      <td>3472.0</td>\n",
       "      <td>4420.0</td>\n",
       "      <td>62</td>\n",
       "      <td>17626</td>\n",
       "      <td>27507</td>\n",
       "      <td>9094</td>\n",
       "      <td>2688</td>\n",
       "      <td>9555776.0</td>\n",
       "    </tr>\n",
       "    <tr>\n",
       "      <th>2</th>\n",
       "      <td>chr1</td>\n",
       "      <td>895127</td>\n",
       "      <td>24</td>\n",
       "      <td>12</td>\n",
       "      <td>0</td>\n",
       "      <td>0</td>\n",
       "      <td>4</td>\n",
       "      <td>9.0</td>\n",
       "      <td>0.00</td>\n",
       "      <td>0.899753</td>\n",
       "      <td>3.895748</td>\n",
       "      <td>1</td>\n",
       "      <td>NOC2L</td>\n",
       "      <td>448</td>\n",
       "      <td>448</td>\n",
       "      <td>448</td>\n",
       "      <td>533</td>\n",
       "      <td>-1448.0</td>\n",
       "      <td>12</td>\n",
       "      <td>-970</td>\n",
       "      <td>68</td>\n",
       "      <td>8072</td>\n",
       "      <td>8072.0</td>\n",
       "      <td>16292.0</td>\n",
       "      <td>65</td>\n",
       "      <td>60727</td>\n",
       "      <td>5444</td>\n",
       "      <td>448</td>\n",
       "      <td>448</td>\n",
       "      <td>9512675.0</td>\n",
       "    </tr>\n",
       "    <tr>\n",
       "      <th>3</th>\n",
       "      <td>chr1</td>\n",
       "      <td>917687</td>\n",
       "      <td>52</td>\n",
       "      <td>52</td>\n",
       "      <td>0</td>\n",
       "      <td>0</td>\n",
       "      <td>13</td>\n",
       "      <td>8.0</td>\n",
       "      <td>0.00</td>\n",
       "      <td>0.903064</td>\n",
       "      <td>12.898438</td>\n",
       "      <td>1</td>\n",
       "      <td>C1orf170</td>\n",
       "      <td>214</td>\n",
       "      <td>214</td>\n",
       "      <td>214</td>\n",
       "      <td>243</td>\n",
       "      <td>-1214.0</td>\n",
       "      <td>16</td>\n",
       "      <td>5770</td>\n",
       "      <td>68</td>\n",
       "      <td>1809</td>\n",
       "      <td>5936.0</td>\n",
       "      <td>1809.0</td>\n",
       "      <td>65</td>\n",
       "      <td>83287</td>\n",
       "      <td>7203</td>\n",
       "      <td>15776</td>\n",
       "      <td>214</td>\n",
       "      <td>9490115.0</td>\n",
       "    </tr>\n",
       "    <tr>\n",
       "      <th>4</th>\n",
       "      <td>chr1</td>\n",
       "      <td>986063</td>\n",
       "      <td>42</td>\n",
       "      <td>12</td>\n",
       "      <td>0</td>\n",
       "      <td>0</td>\n",
       "      <td>6</td>\n",
       "      <td>9.0</td>\n",
       "      <td>0.00</td>\n",
       "      <td>0.516868</td>\n",
       "      <td>5.375034</td>\n",
       "      <td>1</td>\n",
       "      <td>RNF223</td>\n",
       "      <td>23624</td>\n",
       "      <td>-30561</td>\n",
       "      <td>42</td>\n",
       "      <td>-92</td>\n",
       "      <td>22624.0</td>\n",
       "      <td>21</td>\n",
       "      <td>8226</td>\n",
       "      <td>70</td>\n",
       "      <td>513</td>\n",
       "      <td>9785.0</td>\n",
       "      <td>513.0</td>\n",
       "      <td>68</td>\n",
       "      <td>103437</td>\n",
       "      <td>4298</td>\n",
       "      <td>21883</td>\n",
       "      <td>23332</td>\n",
       "      <td>9421739.0</td>\n",
       "    </tr>\n",
       "  </tbody>\n",
       "</table>\n",
       "</div>"
      ],
      "text/plain": [
       "    chr   start  cpgMeth  cpgUnmeth  readMeth  readUnmeth  readMixed  \\\n",
       "0  chr1  523390       16         14         0           0         10   \n",
       "1  chr1  852026       22         33         0           0         11   \n",
       "2  chr1  895127       24         12         0           0          4   \n",
       "3  chr1  917687       52         52         0           0         13   \n",
       "4  chr1  986063       42         12         0           0          6   \n",
       "\n",
       "   avCpgCount  epiProb  discProb    expDisc  epiReadTypeCount           tss  \\\n",
       "0         3.0     0.48  0.053860   7.466667                 2        OR4F16   \n",
       "1         5.0     0.00  0.363031  10.032000                 1  LOC100130417   \n",
       "2         9.0     0.00  0.899753   3.895748                 1         NOC2L   \n",
       "3         8.0     0.00  0.903064  12.898438                 1      C1orf170   \n",
       "4         9.0     0.00  0.516868   5.375034                 1        RNF223   \n",
       "\n",
       "   tssDistance  genesDistance  exonsDistance  intronsDistance  \\\n",
       "0        98644          97705          97705            97705   \n",
       "1         2791            926            926              926   \n",
       "2          448            448            448              533   \n",
       "3          214            214            214              243   \n",
       "4        23624         -30561             42              -92   \n",
       "\n",
       "   promoterDistance  cgi  cgiDistance  geneDensity  ctcfDistance  \\\n",
       "0           97644.0    2        40969           55          1741   \n",
       "1            1791.0    8         5762           67          3472   \n",
       "2           -1448.0   12         -970           68          8072   \n",
       "3           -1214.0   16         5770           68          1809   \n",
       "4           22624.0   21         8226           70           513   \n",
       "\n",
       "   ctcfUpDistance  ctcfDownDistance  ctcfDensity  \\\n",
       "0          1741.0           22611.0           44   \n",
       "1          3472.0            4420.0           62   \n",
       "2          8072.0           16292.0           65   \n",
       "3          5936.0            1809.0           65   \n",
       "4          9785.0             513.0           68   \n",
       "\n",
       "   geneDistalRegulatoryModulesDistance  3PrimeUTRDistance  5PrimeUTRDistance  \\\n",
       "0                               299510             356143             337730   \n",
       "1                                17626              27507               9094   \n",
       "2                                60727               5444                448   \n",
       "3                                83287               7203              15776   \n",
       "4                               103437               4298              21883   \n",
       "\n",
       "   firstExonDistance  hypoInHues64Distance  \n",
       "0              97705             9884412.0  \n",
       "1               2688             9555776.0  \n",
       "2                448             9512675.0  \n",
       "3                214             9490115.0  \n",
       "4              23332             9421739.0  "
      ]
     },
     "execution_count": 5,
     "metadata": {},
     "output_type": "execute_result"
    }
   ],
   "source": [
    "df1.head()"
   ]
  },
  {
   "cell_type": "code",
   "execution_count": 6,
   "metadata": {
    "collapsed": false
   },
   "outputs": [
    {
     "name": "stdout",
     "output_type": "stream",
     "text": [
      "(5114, 30)\n",
      "There are 5114 number of rows\n"
     ]
    }
   ],
   "source": [
    "print(df1.shape)\n",
    "print('There are ' + str(df1.shape[0])+ ' number of rows')"
   ]
  },
  {
   "cell_type": "code",
   "execution_count": 7,
   "metadata": {
    "collapsed": false
   },
   "outputs": [],
   "source": [
    "cols = list(range(8,30)) # define list of columns to drop\n",
    "df1 = df1.drop(df1.columns[cols],axis=1) # drop columns"
   ]
  },
  {
   "cell_type": "code",
   "execution_count": 8,
   "metadata": {
    "collapsed": false
   },
   "outputs": [
    {
     "data": {
      "text/html": [
       "<div>\n",
       "<table border=\"1\" class=\"dataframe\">\n",
       "  <thead>\n",
       "    <tr style=\"text-align: right;\">\n",
       "      <th></th>\n",
       "      <th>chr</th>\n",
       "      <th>start</th>\n",
       "      <th>cpgMeth</th>\n",
       "      <th>cpgUnmeth</th>\n",
       "      <th>readMeth</th>\n",
       "      <th>readUnmeth</th>\n",
       "      <th>readMixed</th>\n",
       "      <th>avCpgCount</th>\n",
       "    </tr>\n",
       "  </thead>\n",
       "  <tbody>\n",
       "    <tr>\n",
       "      <th>0</th>\n",
       "      <td>chr1</td>\n",
       "      <td>523390</td>\n",
       "      <td>16</td>\n",
       "      <td>14</td>\n",
       "      <td>0</td>\n",
       "      <td>0</td>\n",
       "      <td>10</td>\n",
       "      <td>3.0</td>\n",
       "    </tr>\n",
       "    <tr>\n",
       "      <th>1</th>\n",
       "      <td>chr1</td>\n",
       "      <td>852026</td>\n",
       "      <td>22</td>\n",
       "      <td>33</td>\n",
       "      <td>0</td>\n",
       "      <td>0</td>\n",
       "      <td>11</td>\n",
       "      <td>5.0</td>\n",
       "    </tr>\n",
       "    <tr>\n",
       "      <th>2</th>\n",
       "      <td>chr1</td>\n",
       "      <td>895127</td>\n",
       "      <td>24</td>\n",
       "      <td>12</td>\n",
       "      <td>0</td>\n",
       "      <td>0</td>\n",
       "      <td>4</td>\n",
       "      <td>9.0</td>\n",
       "    </tr>\n",
       "    <tr>\n",
       "      <th>3</th>\n",
       "      <td>chr1</td>\n",
       "      <td>917687</td>\n",
       "      <td>52</td>\n",
       "      <td>52</td>\n",
       "      <td>0</td>\n",
       "      <td>0</td>\n",
       "      <td>13</td>\n",
       "      <td>8.0</td>\n",
       "    </tr>\n",
       "    <tr>\n",
       "      <th>4</th>\n",
       "      <td>chr1</td>\n",
       "      <td>986063</td>\n",
       "      <td>42</td>\n",
       "      <td>12</td>\n",
       "      <td>0</td>\n",
       "      <td>0</td>\n",
       "      <td>6</td>\n",
       "      <td>9.0</td>\n",
       "    </tr>\n",
       "    <tr>\n",
       "      <th>5</th>\n",
       "      <td>chr1</td>\n",
       "      <td>992710</td>\n",
       "      <td>23</td>\n",
       "      <td>23</td>\n",
       "      <td>0</td>\n",
       "      <td>0</td>\n",
       "      <td>23</td>\n",
       "      <td>2.0</td>\n",
       "    </tr>\n",
       "    <tr>\n",
       "      <th>6</th>\n",
       "      <td>chr1</td>\n",
       "      <td>1023246</td>\n",
       "      <td>16</td>\n",
       "      <td>2</td>\n",
       "      <td>0</td>\n",
       "      <td>0</td>\n",
       "      <td>2</td>\n",
       "      <td>9.0</td>\n",
       "    </tr>\n",
       "    <tr>\n",
       "      <th>7</th>\n",
       "      <td>chr1</td>\n",
       "      <td>1052599</td>\n",
       "      <td>6</td>\n",
       "      <td>24</td>\n",
       "      <td>0</td>\n",
       "      <td>0</td>\n",
       "      <td>6</td>\n",
       "      <td>5.0</td>\n",
       "    </tr>\n",
       "    <tr>\n",
       "      <th>8</th>\n",
       "      <td>chr1</td>\n",
       "      <td>1057756</td>\n",
       "      <td>6</td>\n",
       "      <td>12</td>\n",
       "      <td>0</td>\n",
       "      <td>0</td>\n",
       "      <td>6</td>\n",
       "      <td>3.0</td>\n",
       "    </tr>\n",
       "    <tr>\n",
       "      <th>9</th>\n",
       "      <td>chr1</td>\n",
       "      <td>1094887</td>\n",
       "      <td>24</td>\n",
       "      <td>6</td>\n",
       "      <td>0</td>\n",
       "      <td>0</td>\n",
       "      <td>6</td>\n",
       "      <td>5.0</td>\n",
       "    </tr>\n",
       "  </tbody>\n",
       "</table>\n",
       "</div>"
      ],
      "text/plain": [
       "    chr    start  cpgMeth  cpgUnmeth  readMeth  readUnmeth  readMixed  \\\n",
       "0  chr1   523390       16         14         0           0         10   \n",
       "1  chr1   852026       22         33         0           0         11   \n",
       "2  chr1   895127       24         12         0           0          4   \n",
       "3  chr1   917687       52         52         0           0         13   \n",
       "4  chr1   986063       42         12         0           0          6   \n",
       "5  chr1   992710       23         23         0           0         23   \n",
       "6  chr1  1023246       16          2         0           0          2   \n",
       "7  chr1  1052599        6         24         0           0          6   \n",
       "8  chr1  1057756        6         12         0           0          6   \n",
       "9  chr1  1094887       24          6         0           0          6   \n",
       "\n",
       "   avCpgCount  \n",
       "0         3.0  \n",
       "1         5.0  \n",
       "2         9.0  \n",
       "3         8.0  \n",
       "4         9.0  \n",
       "5         2.0  \n",
       "6         9.0  \n",
       "7         5.0  \n",
       "8         3.0  \n",
       "9         5.0  "
      ]
     },
     "execution_count": 8,
     "metadata": {},
     "output_type": "execute_result"
    }
   ],
   "source": [
    "df1.head(10)"
   ]
  },
  {
   "cell_type": "code",
   "execution_count": 9,
   "metadata": {
    "collapsed": false
   },
   "outputs": [],
   "source": [
    "df1['total_reads'] = df1[[\"readMeth\", \"readUnmeth\", \"readMixed\"]].sum(axis=1)  # sum total reads"
   ]
  },
  {
   "cell_type": "code",
   "execution_count": 10,
   "metadata": {
    "collapsed": false
   },
   "outputs": [],
   "source": [
    "df1['PDR'] = df1.apply(lambda row: row['readMixed']/row['total_reads'], axis=1)"
   ]
  },
  {
   "cell_type": "code",
   "execution_count": 11,
   "metadata": {
    "collapsed": false
   },
   "outputs": [
    {
     "data": {
      "text/html": [
       "<div>\n",
       "<table border=\"1\" class=\"dataframe\">\n",
       "  <thead>\n",
       "    <tr style=\"text-align: right;\">\n",
       "      <th></th>\n",
       "      <th>chr</th>\n",
       "      <th>start</th>\n",
       "      <th>cpgMeth</th>\n",
       "      <th>cpgUnmeth</th>\n",
       "      <th>readMeth</th>\n",
       "      <th>readUnmeth</th>\n",
       "      <th>readMixed</th>\n",
       "      <th>avCpgCount</th>\n",
       "      <th>total_reads</th>\n",
       "      <th>PDR</th>\n",
       "    </tr>\n",
       "  </thead>\n",
       "  <tbody>\n",
       "    <tr>\n",
       "      <th>0</th>\n",
       "      <td>chr1</td>\n",
       "      <td>523390</td>\n",
       "      <td>16</td>\n",
       "      <td>14</td>\n",
       "      <td>0</td>\n",
       "      <td>0</td>\n",
       "      <td>10</td>\n",
       "      <td>3.0</td>\n",
       "      <td>10</td>\n",
       "      <td>1.0</td>\n",
       "    </tr>\n",
       "    <tr>\n",
       "      <th>1</th>\n",
       "      <td>chr1</td>\n",
       "      <td>852026</td>\n",
       "      <td>22</td>\n",
       "      <td>33</td>\n",
       "      <td>0</td>\n",
       "      <td>0</td>\n",
       "      <td>11</td>\n",
       "      <td>5.0</td>\n",
       "      <td>11</td>\n",
       "      <td>1.0</td>\n",
       "    </tr>\n",
       "    <tr>\n",
       "      <th>2</th>\n",
       "      <td>chr1</td>\n",
       "      <td>895127</td>\n",
       "      <td>24</td>\n",
       "      <td>12</td>\n",
       "      <td>0</td>\n",
       "      <td>0</td>\n",
       "      <td>4</td>\n",
       "      <td>9.0</td>\n",
       "      <td>4</td>\n",
       "      <td>1.0</td>\n",
       "    </tr>\n",
       "    <tr>\n",
       "      <th>3</th>\n",
       "      <td>chr1</td>\n",
       "      <td>917687</td>\n",
       "      <td>52</td>\n",
       "      <td>52</td>\n",
       "      <td>0</td>\n",
       "      <td>0</td>\n",
       "      <td>13</td>\n",
       "      <td>8.0</td>\n",
       "      <td>13</td>\n",
       "      <td>1.0</td>\n",
       "    </tr>\n",
       "    <tr>\n",
       "      <th>4</th>\n",
       "      <td>chr1</td>\n",
       "      <td>986063</td>\n",
       "      <td>42</td>\n",
       "      <td>12</td>\n",
       "      <td>0</td>\n",
       "      <td>0</td>\n",
       "      <td>6</td>\n",
       "      <td>9.0</td>\n",
       "      <td>6</td>\n",
       "      <td>1.0</td>\n",
       "    </tr>\n",
       "    <tr>\n",
       "      <th>5</th>\n",
       "      <td>chr1</td>\n",
       "      <td>992710</td>\n",
       "      <td>23</td>\n",
       "      <td>23</td>\n",
       "      <td>0</td>\n",
       "      <td>0</td>\n",
       "      <td>23</td>\n",
       "      <td>2.0</td>\n",
       "      <td>23</td>\n",
       "      <td>1.0</td>\n",
       "    </tr>\n",
       "    <tr>\n",
       "      <th>6</th>\n",
       "      <td>chr1</td>\n",
       "      <td>1023246</td>\n",
       "      <td>16</td>\n",
       "      <td>2</td>\n",
       "      <td>0</td>\n",
       "      <td>0</td>\n",
       "      <td>2</td>\n",
       "      <td>9.0</td>\n",
       "      <td>2</td>\n",
       "      <td>1.0</td>\n",
       "    </tr>\n",
       "    <tr>\n",
       "      <th>7</th>\n",
       "      <td>chr1</td>\n",
       "      <td>1052599</td>\n",
       "      <td>6</td>\n",
       "      <td>24</td>\n",
       "      <td>0</td>\n",
       "      <td>0</td>\n",
       "      <td>6</td>\n",
       "      <td>5.0</td>\n",
       "      <td>6</td>\n",
       "      <td>1.0</td>\n",
       "    </tr>\n",
       "    <tr>\n",
       "      <th>8</th>\n",
       "      <td>chr1</td>\n",
       "      <td>1057756</td>\n",
       "      <td>6</td>\n",
       "      <td>12</td>\n",
       "      <td>0</td>\n",
       "      <td>0</td>\n",
       "      <td>6</td>\n",
       "      <td>3.0</td>\n",
       "      <td>6</td>\n",
       "      <td>1.0</td>\n",
       "    </tr>\n",
       "    <tr>\n",
       "      <th>9</th>\n",
       "      <td>chr1</td>\n",
       "      <td>1094887</td>\n",
       "      <td>24</td>\n",
       "      <td>6</td>\n",
       "      <td>0</td>\n",
       "      <td>0</td>\n",
       "      <td>6</td>\n",
       "      <td>5.0</td>\n",
       "      <td>6</td>\n",
       "      <td>1.0</td>\n",
       "    </tr>\n",
       "  </tbody>\n",
       "</table>\n",
       "</div>"
      ],
      "text/plain": [
       "    chr    start  cpgMeth  cpgUnmeth  readMeth  readUnmeth  readMixed  \\\n",
       "0  chr1   523390       16         14         0           0         10   \n",
       "1  chr1   852026       22         33         0           0         11   \n",
       "2  chr1   895127       24         12         0           0          4   \n",
       "3  chr1   917687       52         52         0           0         13   \n",
       "4  chr1   986063       42         12         0           0          6   \n",
       "5  chr1   992710       23         23         0           0         23   \n",
       "6  chr1  1023246       16          2         0           0          2   \n",
       "7  chr1  1052599        6         24         0           0          6   \n",
       "8  chr1  1057756        6         12         0           0          6   \n",
       "9  chr1  1094887       24          6         0           0          6   \n",
       "\n",
       "   avCpgCount  total_reads  PDR  \n",
       "0         3.0           10  1.0  \n",
       "1         5.0           11  1.0  \n",
       "2         9.0            4  1.0  \n",
       "3         8.0           13  1.0  \n",
       "4         9.0            6  1.0  \n",
       "5         2.0           23  1.0  \n",
       "6         9.0            2  1.0  \n",
       "7         5.0            6  1.0  \n",
       "8         3.0            6  1.0  \n",
       "9         5.0            6  1.0  "
      ]
     },
     "execution_count": 11,
     "metadata": {},
     "output_type": "execute_result"
    }
   ],
   "source": [
    "df1.head(10)"
   ]
  },
  {
   "cell_type": "code",
   "execution_count": 12,
   "metadata": {
    "collapsed": false,
    "scrolled": true
   },
   "outputs": [
    {
     "name": "stdout",
     "output_type": "stream",
     "text": [
      "There are 4719 total number of PDR values == 1.0\n"
     ]
    },
    {
     "data": {
      "image/png": "[encoded data removed]",
      "text/plain": [
       "<matplotlib.figure.Figure at 0x1150a7a20>"
      ]
     },
     "metadata": {},
     "output_type": "display_data"
    }
   ],
   "source": [
    "plt.figure()\n",
    "plt.title('Histogram: Frequency of PDR, 5114 rows')\n",
    "plt.xlabel('PDR values')\n",
    "plt.ylabel('Frequency')\n",
    "df1['PDR'].plot(kind='hist')\n",
    "# Note that the vast majority of PDR values are 1.0\n",
    "print('There are ' + str(len(df1[df1['PDR']==1])) + ' total number of PDR values == 1.0')"
   ]
  },
  {
   "cell_type": "code",
   "execution_count": 13,
   "metadata": {
    "collapsed": false
   },
   "outputs": [],
   "source": [
    "PDR_lessthan1 = df1[df1['PDR'] < 1.0]  # simply remove all 1.0 values"
   ]
  },
  {
   "cell_type": "code",
   "execution_count": 14,
   "metadata": {
    "collapsed": false
   },
   "outputs": [
    {
     "name": "stdout",
     "output_type": "stream",
     "text": [
      "There are 395 total number of samples with PDR values < 1.0\n"
     ]
    },
    {
     "data": {
      "image/png": "[encoded data removed]",
      "text/plain": [
       "<matplotlib.figure.Figure at 0x115439400>"
      ]
     },
     "metadata": {},
     "output_type": "display_data"
    }
   ],
   "source": [
    "plt.figure()\n",
    "plt.title('Histogram: Frequency of PDR s.t. PDR < 1.0')\n",
    "plt.xlabel('PDR values')\n",
    "plt.ylabel('Frequency')\n",
    "xticks = [x * 0.05 for x in list(range(0, 20))]  # set xticks 0.0, 0.05, 0.1, 0.15, etc.\n",
    "PDR_lessthan1['PDR'].plot(kind='hist', bins = xticks)\n",
    "print('There are ' + str(len(PDR_lessthan1['PDR'])) + ' total number of samples with PDR values < 1.0')"
   ]
  },
  {
   "cell_type": "code",
   "execution_count": 15,
   "metadata": {
    "collapsed": false
   },
   "outputs": [
    {
     "name": "stderr",
     "output_type": "stream",
     "text": [
      "/opt/local/Library/Frameworks/Python.framework/Versions/3.4/lib/python3.4/site-packages/statsmodels/nonparametric/kdetools.py:20: VisibleDeprecationWarning: using a non-integer number instead of an integer will result in an error in the future\n",
      "  y = X[:m/2+1] + np.r_[0,X[m/2+1:],0]*1j\n"
     ]
    },
    {
     "data": {
      "text/plain": [
       "<matplotlib.text.Text at 0x11553dcc0>"
      ]
     },
     "execution_count": 15,
     "metadata": {},
     "output_type": "execute_result"
    },
    {
     "data": {
      "image/png": "[encoded data removed]",
      "text/plain": [
       "<matplotlib.figure.Figure at 0x115418fd0>"
      ]
     },
     "metadata": {},
     "output_type": "display_data"
    }
   ],
   "source": [
    "sns.distplot(PDR_lessthan1['PDR'], bins = xticks)  # Flexibly plot a univariate distribution against observations.\n",
    "plt.title('Distribution fitted to frequency of PDR values s.t. PDR < 1.0')\n",
    "plt.xlabel('PDR values')\n",
    "plt.ylabel('Frequency')"
   ]
  },
  {
   "cell_type": "code",
   "execution_count": null,
   "metadata": {
    "collapsed": false
   },
   "outputs": [],
   "source": []
  },
  {
   "cell_type": "code",
   "execution_count": null,
   "metadata": {
    "collapsed": true
   },
   "outputs": [],
   "source": []
  },
  {
   "cell_type": "code",
   "execution_count": null,
   "metadata": {
    "collapsed": true
   },
   "outputs": [],
   "source": []
  }
 ],
 "metadata": {
  "kernelspec": {
   "display_name": "Python 3",
   "language": "python",
   "name": "python3"
  },
  "language_info": {
   "codemirror_mode": {
    "name": "ipython",
    "version": 3
   },
   "file_extension": ".py",
   "mimetype": "text/x-python",
   "name": "python",
   "nbconvert_exporter": "python",
   "pygments_lexer": "ipython3",
   "version": "3.4.4"
  }
 },
 "nbformat": 4,
 "nbformat_minor": 0
}
